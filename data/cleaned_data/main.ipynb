{
 "cells": [
  {
   "cell_type": "markdown",
   "id": "3537fd1c",
   "metadata": {},
   "source": [
    "# SQL Database for Blockbuster"
   ]
  },
  {
   "cell_type": "markdown",
   "id": "5a15bce7",
   "metadata": {},
   "source": [
    "*Commit 1*"
   ]
  },
  {
   "cell_type": "code",
   "execution_count": 1,
   "id": "fe62cba0",
   "metadata": {},
   "outputs": [],
   "source": [
    "import numpy as np\n",
    "import pandas as pd\n",
    "\n",
    "pd.set_option('display.max_columns', None)\n",
    "\n",
    "import mysql.connector as conn"
   ]
  },
  {
   "cell_type": "markdown",
   "id": "02818a87",
   "metadata": {},
   "source": [
    "## 1. Create new database called blockbuster and connect to it"
   ]
  },
  {
   "cell_type": "code",
   "execution_count": 2,
   "id": "70f306e5",
   "metadata": {},
   "outputs": [
    {
     "data": {
      "text/plain": [
       "<mysql.connector.cursor.MySQLCursor at 0x7f882be0ada0>"
      ]
     },
     "execution_count": 2,
     "metadata": {},
     "output_type": "execute_result"
    }
   ],
   "source": [
    "conexion = conn.connect(host='localhost',\n",
    "                        user='root',\n",
    "                        passwd='password'\n",
    "                       )\n",
    "\n",
    "cursor = conexion.cursor()\n",
    "\n",
    "\n",
    "cursor"
   ]
  },
  {
   "cell_type": "code",
   "execution_count": 3,
   "id": "ab6e44a0",
   "metadata": {},
   "outputs": [
    {
     "data": {
      "text/plain": [
       "<bound method MySQLCursor.execute of <mysql.connector.cursor.MySQLCursor object at 0x7f8829ff51b0>>"
      ]
     },
     "execution_count": 3,
     "metadata": {},
     "output_type": "execute_result"
    }
   ],
   "source": [
    "cursor.execute('drop database if exists blockbuster;')\n",
    "\n",
    "cursor.execute('create database blockbuster;')\n",
    "\n",
    "conexion = conn.connect(host='localhost',\n",
    "                        user='root',\n",
    "                        passwd='password',\n",
    "                        database='blockbuster'\n",
    "                       )\n",
    "\n",
    "\n",
    "cursor = conexion.cursor()\n",
    "\n",
    "c=cursor.execute\n",
    "\n",
    "c\n"
   ]
  },
  {
   "cell_type": "markdown",
   "id": "20aa864d",
   "metadata": {},
   "source": [
    "## 2. Look at the Data"
   ]
  },
  {
   "cell_type": "code",
   "execution_count": 4,
   "id": "18f18f73",
   "metadata": {},
   "outputs": [],
   "source": [
    "actor = pd.read_csv('../data/actor.csv')\n",
    "categ = pd.read_csv('../data/category.csv')\n",
    "film = pd.read_csv('../data/film.csv')\n",
    "invent = pd.read_csv('../data/inventory.csv')\n",
    "lang = pd.read_csv('../data/language.csv')\n",
    "old = pd.read_csv('../data/old_HDD.csv')\n",
    "rental = pd.read_csv('../data/rental.csv')"
   ]
  },
  {
   "cell_type": "markdown",
   "id": "fecb9f35",
   "metadata": {},
   "source": [
    "*Commit 2,3 y 4*"
   ]
  },
  {
   "cell_type": "markdown",
   "id": "3dd0ac0b",
   "metadata": {},
   "source": [
    "## 3. Data Cleaning"
   ]
  },
  {
   "cell_type": "markdown",
   "id": "cac5a8eb",
   "metadata": {},
   "source": [
    "### Deleting update time from all the columns"
   ]
  },
  {
   "cell_type": "code",
   "execution_count": 5,
   "id": "07ba732c",
   "metadata": {},
   "outputs": [],
   "source": [
    "x='last_update'\n",
    "\n",
    "actor.drop(x, axis=1, inplace= True)\n",
    "lang.drop(x, axis=1, inplace= True)\n",
    "rental.drop(x, axis=1, inplace= True)\n",
    "invent.drop(x, axis=1, inplace= True)\n",
    "film.drop(x, axis=1, inplace= True)\n",
    "categ.drop(x, axis=1, inplace= True)"
   ]
  },
  {
   "cell_type": "markdown",
   "id": "2db2b8c6",
   "metadata": {},
   "source": [
    "### Invent/Films fix"
   ]
  },
  {
   "cell_type": "code",
   "execution_count": 6,
   "id": "33e44867",
   "metadata": {},
   "outputs": [],
   "source": [
    "film.drop('original_language_id', axis=1, inplace= True)"
   ]
  },
  {
   "cell_type": "markdown",
   "id": "8c6c700d",
   "metadata": {},
   "source": [
    "### Deleting duplicated actor"
   ]
  },
  {
   "cell_type": "code",
   "execution_count": 7,
   "id": "3fb94de4",
   "metadata": {},
   "outputs": [],
   "source": [
    "actor.drop(actor[actor.duplicated(subset=['first_name', 'last_name'])].index, inplace=True)"
   ]
  },
  {
   "cell_type": "markdown",
   "id": "b269baa3",
   "metadata": {},
   "source": [
    "### Changing the actor names from 'old' to actor_id"
   ]
  },
  {
   "cell_type": "code",
   "execution_count": 8,
   "id": "fd740260",
   "metadata": {},
   "outputs": [],
   "source": [
    "old['actor_id'] = pd.Series([np.nan] * len(old))\n",
    "old['full_name'] = old['first_name'] + ' ' + old['last_name']\n",
    "\n",
    "del old['first_name']\n",
    "del old['last_name']\n",
    "\n"
   ]
  },
  {
   "cell_type": "code",
   "execution_count": 9,
   "id": "1f0e1e1f",
   "metadata": {},
   "outputs": [],
   "source": [
    "actor['full_name'] = actor['first_name'] + ' ' + actor['last_name']\n",
    "\n",
    "del actor['first_name']\n",
    "del actor['last_name']\n"
   ]
  },
  {
   "cell_type": "markdown",
   "id": "9d4c94e8",
   "metadata": {},
   "source": [
    "*commit 5*"
   ]
  },
  {
   "cell_type": "code",
   "execution_count": 10,
   "id": "708854d0",
   "metadata": {},
   "outputs": [],
   "source": [
    "actores_ides = dict(zip(actor.full_name.values,actor.actor_id.values))\n"
   ]
  },
  {
   "cell_type": "code",
   "execution_count": 11,
   "id": "485757a8",
   "metadata": {},
   "outputs": [],
   "source": [
    "old['actor_id'] = [actores_ides[i] for i in old.full_name]"
   ]
  },
  {
   "cell_type": "code",
   "execution_count": 12,
   "id": "ab6789e0",
   "metadata": {},
   "outputs": [],
   "source": [
    "film_ides = dict(zip(film.title.values,film.film_id.values))"
   ]
  },
  {
   "cell_type": "code",
   "execution_count": 13,
   "id": "0ac7c2dd",
   "metadata": {},
   "outputs": [],
   "source": [
    "old['title_id'] = [film_ides[i] for i in old.title]"
   ]
  },
  {
   "cell_type": "code",
   "execution_count": 14,
   "id": "89e32a32",
   "metadata": {},
   "outputs": [],
   "source": [
    "bad_columns= ['release_year', 'full_name', 'title']\n",
    "\n",
    "old.drop(columns=bad_columns, inplace=True)"
   ]
  },
  {
   "cell_type": "markdown",
   "id": "2c3604f0",
   "metadata": {},
   "source": [
    "*Commit 6*"
   ]
  },
  {
   "cell_type": "markdown",
   "id": "fdab95c0",
   "metadata": {},
   "source": [
    "### Category  to film table"
   ]
  },
  {
   "cell_type": "code",
   "execution_count": 15,
   "id": "c00a0158",
   "metadata": {},
   "outputs": [],
   "source": [
    "film.drop(film[film.duplicated(subset=['title'])].index, inplace=True)"
   ]
  },
  {
   "cell_type": "code",
   "execution_count": 16,
   "id": "dcdbfac5",
   "metadata": {},
   "outputs": [],
   "source": [
    "selected_columns = old[['category_id', 'title_id']]\n",
    "tuples = [tuple(row) for row in selected_columns.itertuples(index=False)]\n",
    "unique_tuples = set(tuples)"
   ]
  },
  {
   "cell_type": "code",
   "execution_count": 17,
   "id": "a5581819",
   "metadata": {},
   "outputs": [],
   "source": [
    "def categ_sust(x):\n",
    "    for a, b in unique_tuples:\n",
    "        if x == b:\n",
    "            return int(a)\n",
    "    return None"
   ]
  },
  {
   "cell_type": "code",
   "execution_count": 18,
   "id": "0b4b6ad1",
   "metadata": {},
   "outputs": [],
   "source": [
    "film['category_id'] = film['film_id'].apply(categ_sust)"
   ]
  },
  {
   "cell_type": "code",
   "execution_count": 19,
   "id": "311a59da",
   "metadata": {},
   "outputs": [],
   "source": [
    "nan_rows = film[film.isnull().any(axis=1)]\n",
    "nan_rows.shape\n",
    "film.fillna(0, inplace=True)"
   ]
  },
  {
   "cell_type": "code",
   "execution_count": 20,
   "id": "9ccbe42e",
   "metadata": {
    "scrolled": true
   },
   "outputs": [],
   "source": [
    "film['category_id'] = film['category_id'].astype(int)"
   ]
  },
  {
   "cell_type": "code",
   "execution_count": 21,
   "id": "ee24b197",
   "metadata": {
    "scrolled": true
   },
   "outputs": [],
   "source": [
    "old.drop('category_id', axis=1, inplace= True)"
   ]
  },
  {
   "cell_type": "markdown",
   "id": "ad8b7a9b",
   "metadata": {},
   "source": [
    "### Delete store id from inventory"
   ]
  },
  {
   "cell_type": "code",
   "execution_count": 22,
   "id": "90993ebd",
   "metadata": {},
   "outputs": [],
   "source": [
    "invent.drop(columns='store_id', inplace=True)"
   ]
  },
  {
   "cell_type": "markdown",
   "id": "5bc6b689",
   "metadata": {},
   "source": [
    "*commit 7 and 8*"
   ]
  },
  {
   "cell_type": "markdown",
   "id": "7f90df08",
   "metadata": {},
   "source": [
    "### Uploading the data to SQL"
   ]
  },
  {
   "cell_type": "markdown",
   "id": "4212c14a",
   "metadata": {},
   "source": [
    "This is the query to create all the tables."
   ]
  },
  {
   "cell_type": "code",
   "execution_count": null,
   "id": "bff59b12",
   "metadata": {},
   "outputs": [],
   "source": [
    "'''\n",
    "-- MySQL Workbench Forward Engineering\n",
    "\n",
    "SET @OLD_UNIQUE_CHECKS=@@UNIQUE_CHECKS, UNIQUE_CHECKS=0;\n",
    "SET @OLD_FOREIGN_KEY_CHECKS=@@FOREIGN_KEY_CHECKS, FOREIGN_KEY_CHECKS=0;\n",
    "SET @OLD_SQL_MODE=@@SQL_MODE, SQL_MODE='ONLY_FULL_GROUP_BY,STRICT_TRANS_TABLES,NO_ZERO_IN_DATE,NO_ZERO_DATE,ERROR_FOR_DIVISION_BY_ZERO,NO_ENGINE_SUBSTITUTION';\n",
    "\n",
    "-- -----------------------------------------------------\n",
    "-- Schema mydb\n",
    "-- -----------------------------------------------------\n",
    "-- -----------------------------------------------------\n",
    "-- Schema blockbuster\n",
    "-- -----------------------------------------------------\n",
    "\n",
    "-- -----------------------------------------------------\n",
    "-- Schema blockbuster\n",
    "-- -----------------------------------------------------\n",
    "CREATE SCHEMA IF NOT EXISTS `blockbuster` DEFAULT CHARACTER SET utf8mb4 COLLATE utf8mb4_0900_ai_ci ;\n",
    "USE `blockbuster` ;\n",
    "\n",
    "-- -----------------------------------------------------\n",
    "-- Table `blockbuster`.`Category`\n",
    "-- -----------------------------------------------------\n",
    "CREATE TABLE IF NOT EXISTS `blockbuster`.`Category` (\n",
    "  `category_id` INT NOT NULL,\n",
    "  `name` VARCHAR(100) NULL,\n",
    "  PRIMARY KEY (`category_id`))\n",
    "ENGINE = InnoDB;\n",
    "\n",
    "\n",
    "-- -----------------------------------------------------\n",
    "-- Table `blockbuster`.`Languaje`\n",
    "-- -----------------------------------------------------\n",
    "CREATE TABLE IF NOT EXISTS `blockbuster`.`Languaje` (\n",
    "  `languaje_id` INT NOT NULL,\n",
    "  `name` VARCHAR(45) NULL,\n",
    "  PRIMARY KEY (`languaje_id`))\n",
    "ENGINE = InnoDB;\n",
    "\n",
    "\n",
    "-- -----------------------------------------------------\n",
    "-- Table `blockbuster`.`films`\n",
    "-- -----------------------------------------------------\n",
    "CREATE TABLE IF NOT EXISTS `blockbuster`.`films` (\n",
    "  `film_id` INT NOT NULL,\n",
    "  `title` VARCHAR(200) NULL,\n",
    "  `description` VARCHAR(500) NULL,\n",
    "  `year` INT NULL,\n",
    "  `category_id` INT NOT NULL,\n",
    "  `rental_duration` INT NULL,\n",
    "  `rental_rate` FLOAT NULL,\n",
    "  `length` INT NULL,\n",
    "  `replacement_cost` FLOAT NULL,\n",
    "  `rating` VARCHAR(45) NULL,\n",
    "  `features` VARCHAR(100) NULL,\n",
    "  `languaje_id` INT NOT NULL,\n",
    "  PRIMARY KEY (`film_id`, `category_id`, `languaje_id`),\n",
    "  INDEX `fk_films_Category_idx` (`category_id` ASC) VISIBLE,\n",
    "  INDEX `fk_films_Languaje1_idx` (`languaje_id` ASC) VISIBLE,\n",
    "  CONSTRAINT `fk_films_Category`\n",
    "    FOREIGN KEY (`category_id`)\n",
    "    REFERENCES `blockbuster`.`Category` (`category_id`)\n",
    "    ON DELETE NO ACTION\n",
    "    ON UPDATE NO ACTION,\n",
    "  CONSTRAINT `fk_films_Languaje1`\n",
    "    FOREIGN KEY (`languaje_id`)\n",
    "    REFERENCES `blockbuster`.`Languaje` (`languaje_id`)\n",
    "    ON DELETE NO ACTION\n",
    "    ON UPDATE NO ACTION)\n",
    "ENGINE = InnoDB;\n",
    "\n",
    "\n",
    "-- -----------------------------------------------------\n",
    "-- Table `blockbuster`.`actors`\n",
    "-- -----------------------------------------------------\n",
    "CREATE TABLE IF NOT EXISTS `blockbuster`.`actors` (\n",
    "  `actors_id` INT NOT NULL,\n",
    "  `full_name` VARCHAR(100) NULL,\n",
    "  PRIMARY KEY (`actors_id`))\n",
    "ENGINE = InnoDB;\n",
    "\n",
    "\n",
    "-- -----------------------------------------------------\n",
    "-- Table `blockbuster`.`films_has_films`\n",
    "-- -----------------------------------------------------\n",
    "CREATE TABLE IF NOT EXISTS `blockbuster`.`films_has_films` (\n",
    "  `films_films_id` INT NOT NULL,\n",
    "  `films_category_id` INT NOT NULL,\n",
    "  `films_languaje_id` INT NOT NULL,\n",
    "  `films_films_id1` INT NOT NULL,\n",
    "  `films_category_id1` INT NOT NULL,\n",
    "  `films_languaje_id1` INT NOT NULL,\n",
    "  PRIMARY KEY (`films_films_id`, `films_category_id`, `films_languaje_id`, `films_films_id1`, `films_category_id1`, `films_languaje_id1`),\n",
    "  INDEX `fk_films_has_films_films2_idx` (`films_films_id1` ASC, `films_category_id1` ASC, `films_languaje_id1` ASC) VISIBLE,\n",
    "  INDEX `fk_films_has_films_films1_idx` (`films_films_id` ASC, `films_category_id` ASC, `films_languaje_id` ASC) VISIBLE,\n",
    "  CONSTRAINT `fk_films_has_films_films1`\n",
    "    FOREIGN KEY (`films_films_id` , `films_category_id` , `films_languaje_id`)\n",
    "    REFERENCES `blockbuster`.`films` (`film_id` , `category_id` , `languaje_id`)\n",
    "    ON DELETE NO ACTION\n",
    "    ON UPDATE NO ACTION,\n",
    "  CONSTRAINT `fk_films_has_films_films2`\n",
    "    FOREIGN KEY (`films_films_id1` , `films_category_id1` , `films_languaje_id1`)\n",
    "    REFERENCES `blockbuster`.`films` (`film_id` , `category_id` , `languaje_id`)\n",
    "    ON DELETE NO ACTION\n",
    "    ON UPDATE NO ACTION)\n",
    "ENGINE = InnoDB;\n",
    "\n",
    "\n",
    "-- -----------------------------------------------------\n",
    "-- Table `blockbuster`.`films_has_films1`\n",
    "-- -----------------------------------------------------\n",
    "CREATE TABLE IF NOT EXISTS `blockbuster`.`films_has_films1` (\n",
    "  `films_films_id` INT NOT NULL,\n",
    "  `films_category_id` INT NOT NULL,\n",
    "  `films_languaje_id` INT NOT NULL,\n",
    "  `films_films_id1` INT NOT NULL,\n",
    "  `films_category_id1` INT NOT NULL,\n",
    "  `films_languaje_id1` INT NOT NULL,\n",
    "  PRIMARY KEY (`films_films_id`, `films_category_id`, `films_languaje_id`, `films_films_id1`, `films_category_id1`, `films_languaje_id1`),\n",
    "  INDEX `fk_films_has_films1_films2_idx` (`films_films_id1` ASC, `films_category_id1` ASC, `films_languaje_id1` ASC) VISIBLE,\n",
    "  INDEX `fk_films_has_films1_films1_idx` (`films_films_id` ASC, `films_category_id` ASC, `films_languaje_id` ASC) VISIBLE,\n",
    "  CONSTRAINT `fk_films_has_films1_films1`\n",
    "    FOREIGN KEY (`films_films_id` , `films_category_id` , `films_languaje_id`)\n",
    "    REFERENCES `blockbuster`.`films` (`film_id` , `category_id` , `languaje_id`)\n",
    "    ON DELETE NO ACTION\n",
    "    ON UPDATE NO ACTION,\n",
    "  CONSTRAINT `fk_films_has_films1_films2`\n",
    "    FOREIGN KEY (`films_films_id1` , `films_category_id1` , `films_languaje_id1`)\n",
    "    REFERENCES `blockbuster`.`films` (`film_id` , `category_id` , `languaje_id`)\n",
    "    ON DELETE NO ACTION\n",
    "    ON UPDATE NO ACTION)\n",
    "ENGINE = InnoDB;\n",
    "\n",
    "\n",
    "-- -----------------------------------------------------\n",
    "-- Table `blockbuster`.`films_has_films2`\n",
    "-- -----------------------------------------------------\n",
    "CREATE TABLE IF NOT EXISTS `blockbuster`.`films_has_films2` (\n",
    "  `films_films_id` INT NOT NULL,\n",
    "  `films_category_id` INT NOT NULL,\n",
    "  `films_languaje_id` INT NOT NULL,\n",
    "  `films_films_id1` INT NOT NULL,\n",
    "  `films_category_id1` INT NOT NULL,\n",
    "  `films_languaje_id1` INT NOT NULL,\n",
    "  PRIMARY KEY (`films_films_id`, `films_category_id`, `films_languaje_id`, `films_films_id1`, `films_category_id1`, `films_languaje_id1`),\n",
    "  INDEX `fk_films_has_films2_films2_idx` (`films_films_id1` ASC, `films_category_id1` ASC, `films_languaje_id1` ASC) VISIBLE,\n",
    "  INDEX `fk_films_has_films2_films1_idx` (`films_films_id` ASC, `films_category_id` ASC, `films_languaje_id` ASC) VISIBLE,\n",
    "  CONSTRAINT `fk_films_has_films2_films1`\n",
    "    FOREIGN KEY (`films_films_id` , `films_category_id` , `films_languaje_id`)\n",
    "    REFERENCES `blockbuster`.`films` (`film_id` , `category_id` , `languaje_id`)\n",
    "    ON DELETE NO ACTION\n",
    "    ON UPDATE NO ACTION,\n",
    "  CONSTRAINT `fk_films_has_films2_films2`\n",
    "    FOREIGN KEY (`films_films_id1` , `films_category_id1` , `films_languaje_id1`)\n",
    "    REFERENCES `blockbuster`.`films` (`film_id` , `category_id` , `languaje_id`)\n",
    "    ON DELETE NO ACTION\n",
    "    ON UPDATE NO ACTION)\n",
    "ENGINE = InnoDB;\n",
    "\n",
    "\n",
    "-- -----------------------------------------------------\n",
    "-- Table `blockbuster`.`films_actors`\n",
    "-- -----------------------------------------------------\n",
    "CREATE TABLE IF NOT EXISTS `blockbuster`.`films_actors` (\n",
    "  `films_films_id` INT NOT NULL,\n",
    "  `actors_actors_id` INT NOT NULL,\n",
    "  PRIMARY KEY (`films_films_id`, `actors_actors_id`),\n",
    "  INDEX `fk_films_has_actors_actors1_idx` (`actors_actors_id` ASC) VISIBLE,\n",
    "  INDEX `fk_films_has_actors_films1_idx` (`films_films_id` ASC) VISIBLE,\n",
    "  CONSTRAINT `fk_films_has_actors_films1`\n",
    "    FOREIGN KEY (`films_films_id`)\n",
    "    REFERENCES `blockbuster`.`films` (`film_id`)\n",
    "    ON DELETE NO ACTION\n",
    "    ON UPDATE NO ACTION,\n",
    "  CONSTRAINT `fk_films_has_actors_actors1`\n",
    "    FOREIGN KEY (`actors_actors_id`)\n",
    "    REFERENCES `blockbuster`.`actors` (`actors_id`)\n",
    "    ON DELETE NO ACTION\n",
    "    ON UPDATE NO ACTION)\n",
    "ENGINE = InnoDB;\n",
    "\n",
    "\n",
    "-- -----------------------------------------------------\n",
    "-- Table `blockbuster`.`inventory`\n",
    "-- -----------------------------------------------------\n",
    "CREATE TABLE IF NOT EXISTS `blockbuster`.`inventory` (\n",
    "  `inventory_id` INT NOT NULL,\n",
    "  `film_id` INT NOT NULL,\n",
    "  PRIMARY KEY (`inventory_id`, `film_id`),\n",
    "  INDEX `fk_inventory_films1_idx` (`film_id` ASC) VISIBLE,\n",
    "  CONSTRAINT `fk_inventory_films1`\n",
    "    FOREIGN KEY (`film_id`)\n",
    "    REFERENCES `blockbuster`.`films` (`film_id`)\n",
    "    ON DELETE NO ACTION\n",
    "    ON UPDATE NO ACTION)\n",
    "ENGINE = InnoDB;\n",
    "\n",
    "\n",
    "-- -----------------------------------------------------\n",
    "-- Table `blockbuster`.`staff`\n",
    "-- -----------------------------------------------------\n",
    "CREATE TABLE IF NOT EXISTS `blockbuster`.`staff` (\n",
    "  `staff_id` INT NOT NULL,\n",
    "  `full_name` VARCHAR(45) NULL,\n",
    "  `birthdate` DATETIME NULL,\n",
    "  `position` VARCHAR(45) NULL,\n",
    "  PRIMARY KEY (`staff_id`))\n",
    "ENGINE = InnoDB;\n",
    "\n",
    "\n",
    "-- -----------------------------------------------------\n",
    "-- Table `blockbuster`.`customers`\n",
    "-- -----------------------------------------------------\n",
    "CREATE TABLE IF NOT EXISTS `blockbuster`.`customers` (\n",
    "  `customer_id` INT NOT NULL,\n",
    "  `full_name` VARCHAR(45) NULL,\n",
    "  `city` VARCHAR(45) NULL,\n",
    "  `zip_code` VARCHAR(45) NULL,\n",
    "  `sign_up_date` DATETIME NULL,\n",
    "  `staff_op` INT NOT NULL,\n",
    "  PRIMARY KEY (`customer_id`, `staff_op`),\n",
    "  INDEX `fk_customers_staff1_idx` (`staff_op` ASC) VISIBLE,\n",
    "  CONSTRAINT `fk_customers_staff1`\n",
    "    FOREIGN KEY (`staff_op`)\n",
    "    REFERENCES `blockbuster`.`staff` (`staff_id`)\n",
    "    ON DELETE NO ACTION\n",
    "    ON UPDATE NO ACTION)\n",
    "ENGINE = InnoDB;\n",
    "\n",
    "\n",
    "-- -----------------------------------------------------\n",
    "-- Table `blockbuster`.`rental`\n",
    "-- -----------------------------------------------------\n",
    "CREATE TABLE IF NOT EXISTS `blockbuster`.`rental` (\n",
    "  `rental_id` INT NOT NULL,\n",
    "  `rental_date` DATETIME NULL,\n",
    "  `return_date` DATETIME NULL,\n",
    "  `inventory_id` INT NOT NULL,\n",
    "  `customer_id` INT NOT NULL,\n",
    "  `staff_id` INT NOT NULL,\n",
    "  `film_id` INT NOT NULL,\n",
    "  PRIMARY KEY (`rental_id`, `inventory_id`, `customer_id`, `staff_id`, `film_id`),\n",
    "  INDEX `fk_rental_staff1_idx` (`staff_id` ASC) VISIBLE,\n",
    "  INDEX `fk_rental_customers1_idx` (`customer_id` ASC) VISIBLE,\n",
    "  INDEX `fk_rental_inventory1_idx` (`inventory_id` ASC, `film_id` ASC) VISIBLE,\n",
    "  CONSTRAINT `fk_rental_staff1`\n",
    "    FOREIGN KEY (`staff_id`)\n",
    "    REFERENCES `blockbuster`.`staff` (`staff_id`)\n",
    "    ON DELETE NO ACTION\n",
    "    ON UPDATE NO ACTION,\n",
    "  CONSTRAINT `fk_rental_customers1`\n",
    "    FOREIGN KEY (`customer_id`)\n",
    "    REFERENCES `blockbuster`.`customers` (`customer_id`)\n",
    "    ON DELETE NO ACTION\n",
    "    ON UPDATE NO ACTION,\n",
    "  CONSTRAINT `fk_rental_inventory1`\n",
    "    FOREIGN KEY (`inventory_id` , `film_id`)\n",
    "    REFERENCES `blockbuster`.`inventory` (`inventory_id` , `film_id`)\n",
    "    ON DELETE NO ACTION\n",
    "    ON UPDATE NO ACTION)\n",
    "ENGINE = InnoDB;\n",
    "\n",
    "\n",
    "SET SQL_MODE=@OLD_SQL_MODE;\n",
    "SET FOREIGN_KEY_CHECKS=@OLD_FOREIGN_KEY_CHECKS;\n",
    "SET UNIQUE_CHECKS=@OLD_UNIQUE_CHECKS;\n",
    "\n",
    "'''"
   ]
  },
  {
   "cell_type": "markdown",
   "id": "42dc2c1d",
   "metadata": {},
   "source": [
    "After forward engineer tha database is created. Now it is time to fill the data."
   ]
  },
  {
   "cell_type": "markdown",
   "id": "419bceca",
   "metadata": {},
   "source": [
    "*Commit 9*"
   ]
  },
  {
   "cell_type": "markdown",
   "id": "91fab1f0",
   "metadata": {},
   "source": [
    "### Uploading the data"
   ]
  },
  {
   "cell_type": "code",
   "execution_count": 25,
   "id": "bd6bd453",
   "metadata": {},
   "outputs": [],
   "source": [
    "old.to_csv('film_actors.csv', index=False)"
   ]
  },
  {
   "cell_type": "code",
   "execution_count": 26,
   "id": "f2c1f8d0",
   "metadata": {},
   "outputs": [],
   "source": [
    "film.to_csv('film.csv', index=False)"
   ]
  },
  {
   "cell_type": "code",
   "execution_count": 27,
   "id": "7818cf65",
   "metadata": {},
   "outputs": [],
   "source": [
    "actor.to_csv('actor.csv', index=False)"
   ]
  },
  {
   "cell_type": "code",
   "execution_count": 28,
   "id": "c7a82309",
   "metadata": {},
   "outputs": [],
   "source": [
    "categ.to_csv('categ.csv', index=False)"
   ]
  },
  {
   "cell_type": "code",
   "execution_count": 29,
   "id": "99e95bac",
   "metadata": {},
   "outputs": [],
   "source": [
    "lang.to_csv('lang.csv', index=False)"
   ]
  },
  {
   "cell_type": "code",
   "execution_count": 30,
   "id": "32471f60",
   "metadata": {},
   "outputs": [],
   "source": [
    "invent.to_csv('invent.csv', index=False)"
   ]
  },
  {
   "cell_type": "code",
   "execution_count": null,
   "id": "ab56a9fa",
   "metadata": {},
   "outputs": [],
   "source": []
  }
 ],
 "metadata": {
  "kernelspec": {
   "display_name": "Python 3 (ipykernel)",
   "language": "python",
   "name": "python3"
  },
  "language_info": {
   "codemirror_mode": {
    "name": "ipython",
    "version": 3
   },
   "file_extension": ".py",
   "mimetype": "text/x-python",
   "name": "python",
   "nbconvert_exporter": "python",
   "pygments_lexer": "ipython3",
   "version": "3.10.9"
  }
 },
 "nbformat": 4,
 "nbformat_minor": 5
}
