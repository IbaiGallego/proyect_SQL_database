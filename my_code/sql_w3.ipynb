{
 "cells": [
  {
   "cell_type": "markdown",
   "id": "3537fd1c",
   "metadata": {},
   "source": [
    "# SQL Database for Blockbuster"
   ]
  },
  {
   "cell_type": "markdown",
   "id": "5a15bce7",
   "metadata": {},
   "source": [
    "*Commit 1*"
   ]
  },
  {
   "cell_type": "code",
   "execution_count": 1,
   "id": "fe62cba0",
   "metadata": {},
   "outputs": [],
   "source": [
    "import numpy as np\n",
    "import pandas as pd\n",
    "\n",
    "pd.set_option('display.max_columns', None)\n",
    "\n",
    "import mysql.connector as conn"
   ]
  },
  {
   "cell_type": "markdown",
   "id": "02818a87",
   "metadata": {},
   "source": [
    "## 1. Create new database called blockbuster and connect to it"
   ]
  },
  {
   "cell_type": "code",
   "execution_count": 2,
   "id": "70f306e5",
   "metadata": {},
   "outputs": [
    {
     "data": {
      "text/plain": [
       "<mysql.connector.cursor.MySQLCursor at 0x7fb36cd12ce0>"
      ]
     },
     "execution_count": 2,
     "metadata": {},
     "output_type": "execute_result"
    }
   ],
   "source": [
    "conexion = conn.connect(host='localhost',\n",
    "                        user='root',\n",
    "                        passwd='password'\n",
    "                       )\n",
    "\n",
    "cursor = conexion.cursor()\n",
    "\n",
    "\n",
    "cursor"
   ]
  },
  {
   "cell_type": "code",
   "execution_count": 3,
   "id": "ab6e44a0",
   "metadata": {},
   "outputs": [
    {
     "data": {
      "text/plain": [
       "<bound method MySQLCursor.execute of <mysql.connector.cursor.MySQLCursor object at 0x7fb36b6fd720>>"
      ]
     },
     "execution_count": 3,
     "metadata": {},
     "output_type": "execute_result"
    }
   ],
   "source": [
    "cursor.execute('drop database if exists blockbuster;')\n",
    "\n",
    "cursor.execute('create database blockbuster;')\n",
    "\n",
    "conexion = conn.connect(host='localhost',\n",
    "                        user='root',\n",
    "                        passwd='password',\n",
    "                        database='blockbuster'\n",
    "                       )\n",
    "\n",
    "\n",
    "cursor = conexion.cursor()\n",
    "\n",
    "c=cursor.execute\n",
    "\n",
    "c\n"
   ]
  },
  {
   "cell_type": "markdown",
   "id": "20aa864d",
   "metadata": {},
   "source": [
    "## 2. Look at the Data"
   ]
  },
  {
   "cell_type": "code",
   "execution_count": 4,
   "id": "18f18f73",
   "metadata": {},
   "outputs": [],
   "source": [
    "actor = pd.read_csv('../data/actor.csv')\n",
    "categ = pd.read_csv('../data/category.csv')\n",
    "film = pd.read_csv('../data/film.csv')\n",
    "invent = pd.read_csv('../data/inventory.csv')\n",
    "lang = pd.read_csv('../data/language.csv')\n",
    "old = pd.read_csv('../data/old_HDD.csv')\n",
    "rental = pd.read_csv('../data/rental.csv')"
   ]
  },
  {
   "cell_type": "markdown",
   "id": "fecb9f35",
   "metadata": {},
   "source": [
    "*Commit 2,3 y 4*"
   ]
  },
  {
   "cell_type": "markdown",
   "id": "3dd0ac0b",
   "metadata": {},
   "source": [
    "## 3. Data Cleaning"
   ]
  },
  {
   "cell_type": "markdown",
   "id": "cac5a8eb",
   "metadata": {},
   "source": [
    "### Deleting update time from all the columns"
   ]
  },
  {
   "cell_type": "code",
   "execution_count": 9,
   "id": "07ba732c",
   "metadata": {},
   "outputs": [],
   "source": [
    "x='last_update'\n",
    "\n",
    "actor.drop(x, axis=1, inplace= True)\n",
    "lang.drop(x, axis=1, inplace= True)\n",
    "rental.drop(x, axis=1, inplace= True)\n",
    "invent.drop(x, axis=1, inplace= True)\n",
    "film.drop(x, axis=1, inplace= True)\n",
    "categ.drop(x, axis=1, inplace= True)"
   ]
  },
  {
   "cell_type": "markdown",
   "id": "2db2b8c6",
   "metadata": {},
   "source": [
    "### Invent/Films fix"
   ]
  },
  {
   "cell_type": "code",
   "execution_count": 10,
   "id": "33e44867",
   "metadata": {},
   "outputs": [],
   "source": [
    "film.drop('original_language_id', axis=1, inplace= True)"
   ]
  },
  {
   "cell_type": "markdown",
   "id": "8c6c700d",
   "metadata": {},
   "source": [
    "### Deleting duplicated actor"
   ]
  },
  {
   "cell_type": "code",
   "execution_count": 11,
   "id": "3fb94de4",
   "metadata": {},
   "outputs": [],
   "source": [
    "actor.drop(actor[actor.duplicated(subset=['first_name', 'last_name'])].index, inplace=True)"
   ]
  },
  {
   "cell_type": "markdown",
   "id": "b269baa3",
   "metadata": {},
   "source": [
    "### Changing the actor names from 'old' to actor_id"
   ]
  },
  {
   "cell_type": "code",
   "execution_count": 12,
   "id": "fd740260",
   "metadata": {},
   "outputs": [],
   "source": [
    "old['actor_id'] = pd.Series([np.nan] * len(old))\n",
    "old['full_name'] = old['first_name'] + ' ' + old['last_name']\n",
    "\n",
    "del old['first_name']\n",
    "del old['last_name']\n",
    "\n"
   ]
  },
  {
   "cell_type": "code",
   "execution_count": 13,
   "id": "1f0e1e1f",
   "metadata": {},
   "outputs": [],
   "source": [
    "actor['full_name'] = actor['first_name'] + ' ' + actor['last_name']\n",
    "\n",
    "del actor['first_name']\n",
    "del actor['last_name']\n"
   ]
  },
  {
   "cell_type": "markdown",
   "id": "9d4c94e8",
   "metadata": {},
   "source": [
    "*commit 5*"
   ]
  },
  {
   "cell_type": "code",
   "execution_count": 14,
   "id": "708854d0",
   "metadata": {},
   "outputs": [],
   "source": [
    "actores_ides = dict(zip(actor.full_name.values,actor.actor_id.values))\n"
   ]
  },
  {
   "cell_type": "code",
   "execution_count": 15,
   "id": "485757a8",
   "metadata": {},
   "outputs": [],
   "source": [
    "old['actor_id'] = [actores_ides[i] for i in old.full_name]"
   ]
  },
  {
   "cell_type": "code",
   "execution_count": 16,
   "id": "ab6789e0",
   "metadata": {},
   "outputs": [],
   "source": [
    "film_ides = dict(zip(film.title.values,film.film_id.values))"
   ]
  },
  {
   "cell_type": "code",
   "execution_count": 17,
   "id": "0ac7c2dd",
   "metadata": {},
   "outputs": [],
   "source": [
    "old['title_id'] = [film_ides[i] for i in old.title]"
   ]
  },
  {
   "cell_type": "code",
   "execution_count": 18,
   "id": "89e32a32",
   "metadata": {},
   "outputs": [
    {
     "data": {
      "text/html": [
       "<div>\n",
       "<style scoped>\n",
       "    .dataframe tbody tr th:only-of-type {\n",
       "        vertical-align: middle;\n",
       "    }\n",
       "\n",
       "    .dataframe tbody tr th {\n",
       "        vertical-align: top;\n",
       "    }\n",
       "\n",
       "    .dataframe thead th {\n",
       "        text-align: right;\n",
       "    }\n",
       "</style>\n",
       "<table border=\"1\" class=\"dataframe\">\n",
       "  <thead>\n",
       "    <tr style=\"text-align: right;\">\n",
       "      <th></th>\n",
       "      <th>category_id</th>\n",
       "      <th>actor_id</th>\n",
       "      <th>title_id</th>\n",
       "    </tr>\n",
       "  </thead>\n",
       "  <tbody>\n",
       "    <tr>\n",
       "      <th>0</th>\n",
       "      <td>6</td>\n",
       "      <td>1</td>\n",
       "      <td>1</td>\n",
       "    </tr>\n",
       "    <tr>\n",
       "      <th>1</th>\n",
       "      <td>2</td>\n",
       "      <td>1</td>\n",
       "      <td>23</td>\n",
       "    </tr>\n",
       "    <tr>\n",
       "      <th>2</th>\n",
       "      <td>13</td>\n",
       "      <td>1</td>\n",
       "      <td>25</td>\n",
       "    </tr>\n",
       "    <tr>\n",
       "      <th>3</th>\n",
       "      <td>10</td>\n",
       "      <td>1</td>\n",
       "      <td>106</td>\n",
       "    </tr>\n",
       "    <tr>\n",
       "      <th>4</th>\n",
       "      <td>14</td>\n",
       "      <td>1</td>\n",
       "      <td>140</td>\n",
       "    </tr>\n",
       "    <tr>\n",
       "      <th>...</th>\n",
       "      <td>...</td>\n",
       "      <td>...</td>\n",
       "      <td>...</td>\n",
       "    </tr>\n",
       "    <tr>\n",
       "      <th>995</th>\n",
       "      <td>3</td>\n",
       "      <td>39</td>\n",
       "      <td>168</td>\n",
       "    </tr>\n",
       "    <tr>\n",
       "      <th>996</th>\n",
       "      <td>14</td>\n",
       "      <td>39</td>\n",
       "      <td>203</td>\n",
       "    </tr>\n",
       "    <tr>\n",
       "      <th>997</th>\n",
       "      <td>11</td>\n",
       "      <td>39</td>\n",
       "      <td>222</td>\n",
       "    </tr>\n",
       "    <tr>\n",
       "      <th>998</th>\n",
       "      <td>9</td>\n",
       "      <td>39</td>\n",
       "      <td>290</td>\n",
       "    </tr>\n",
       "    <tr>\n",
       "      <th>999</th>\n",
       "      <td>15</td>\n",
       "      <td>39</td>\n",
       "      <td>293</td>\n",
       "    </tr>\n",
       "  </tbody>\n",
       "</table>\n",
       "<p>1000 rows × 3 columns</p>\n",
       "</div>"
      ],
      "text/plain": [
       "     category_id  actor_id  title_id\n",
       "0              6         1         1\n",
       "1              2         1        23\n",
       "2             13         1        25\n",
       "3             10         1       106\n",
       "4             14         1       140\n",
       "..           ...       ...       ...\n",
       "995            3        39       168\n",
       "996           14        39       203\n",
       "997           11        39       222\n",
       "998            9        39       290\n",
       "999           15        39       293\n",
       "\n",
       "[1000 rows x 3 columns]"
      ]
     },
     "execution_count": 18,
     "metadata": {},
     "output_type": "execute_result"
    }
   ],
   "source": [
    "bad_columns= ['release_year', 'full_name', 'title']\n",
    "\n",
    "old.drop(columns=bad_columns, inplace=True)"
   ]
  },
  {
   "cell_type": "markdown",
   "id": "2c3604f0",
   "metadata": {},
   "source": [
    "*Commit 6*"
   ]
  },
  {
   "cell_type": "markdown",
   "id": "fdab95c0",
   "metadata": {},
   "source": [
    "### Category  to film table"
   ]
  },
  {
   "cell_type": "code",
   "execution_count": 19,
   "id": "c00a0158",
   "metadata": {},
   "outputs": [],
   "source": [
    "film.drop(film[film.duplicated(subset=['title'])].index, inplace=True)"
   ]
  },
  {
   "cell_type": "code",
   "execution_count": 20,
   "id": "dcdbfac5",
   "metadata": {},
   "outputs": [],
   "source": [
    "selected_columns = old[['category_id', 'title_id']]\n",
    "tuples = [tuple(row) for row in selected_columns.itertuples(index=False)]\n",
    "unique_tuples = set(tuples)"
   ]
  },
  {
   "cell_type": "code",
   "execution_count": 21,
   "id": "65b5c6fd",
   "metadata": {},
   "outputs": [],
   "source": [
    "def categ_sust(x):\n",
    "    for a, b in unique_tuples:\n",
    "        if x == b:\n",
    "            return int(a)\n",
    "    return None"
   ]
  },
  {
   "cell_type": "code",
   "execution_count": 22,
   "id": "bb0ce131",
   "metadata": {},
   "outputs": [],
   "source": [
    "film['category_id'] = film['film_id'].apply(categ_sust)"
   ]
  },
  {
   "cell_type": "code",
   "execution_count": 23,
   "id": "e915eda5",
   "metadata": {},
   "outputs": [],
   "source": [
    "nan_rows = film[film.isnull().any(axis=1)]\n",
    "nan_rows.shape\n",
    "film.fillna(0, inplace=True)"
   ]
  },
  {
   "cell_type": "code",
   "execution_count": 24,
   "id": "125298b0",
   "metadata": {
    "scrolled": true
   },
   "outputs": [],
   "source": [
    "film['category_id'] = film['category_id'].astype(int)"
   ]
  },
  {
   "cell_type": "code",
   "execution_count": 25,
   "id": "c655625e",
   "metadata": {
    "scrolled": true
   },
   "outputs": [],
   "source": [
    "old.drop('category_id', axis=1, inplace= True)"
   ]
  },
  {
   "cell_type": "markdown",
   "id": "9bca6cfa",
   "metadata": {},
   "source": [
    "### Delete store id from inventory"
   ]
  },
  {
   "cell_type": "code",
   "execution_count": 26,
   "id": "7256226d",
   "metadata": {},
   "outputs": [],
   "source": [
    "invent.drop(columns='store_id', inplace=True)"
   ]
  },
  {
   "cell_type": "code",
   "execution_count": null,
   "id": "ec9529a9",
   "metadata": {},
   "outputs": [],
   "source": []
  }
 ],
 "metadata": {
  "kernelspec": {
   "display_name": "Python 3 (ipykernel)",
   "language": "python",
   "name": "python3"
  },
  "language_info": {
   "codemirror_mode": {
    "name": "ipython",
    "version": 3
   },
   "file_extension": ".py",
   "mimetype": "text/x-python",
   "name": "python",
   "nbconvert_exporter": "python",
   "pygments_lexer": "ipython3",
   "version": "3.10.9"
  }
 },
 "nbformat": 4,
 "nbformat_minor": 5
}
