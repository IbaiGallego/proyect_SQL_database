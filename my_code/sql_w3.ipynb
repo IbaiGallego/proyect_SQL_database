{
 "cells": [
  {
   "cell_type": "markdown",
   "id": "3537fd1c",
   "metadata": {},
   "source": [
    "# SQL Database for Blockbuster"
   ]
  },
  {
   "cell_type": "markdown",
   "id": "5a15bce7",
   "metadata": {},
   "source": [
    "*Commit 1*"
   ]
  },
  {
   "cell_type": "code",
   "execution_count": 1,
   "id": "fe62cba0",
   "metadata": {},
   "outputs": [],
   "source": [
    "import numpy as np\n",
    "import pandas as pd\n",
    "\n",
    "pd.set_option('display.max_columns', None)\n",
    "\n",
    "import mysql.connector as conn"
   ]
  },
  {
   "cell_type": "markdown",
   "id": "02818a87",
   "metadata": {},
   "source": [
    "## 1. Create new database called blockbuster and connect to it"
   ]
  },
  {
   "cell_type": "code",
   "execution_count": 2,
   "id": "70f306e5",
   "metadata": {},
   "outputs": [
    {
     "data": {
      "text/plain": [
       "<mysql.connector.cursor.MySQLCursor at 0x7f8a40512ce0>"
      ]
     },
     "execution_count": 2,
     "metadata": {},
     "output_type": "execute_result"
    }
   ],
   "source": [
    "conexion = conn.connect(host='localhost',\n",
    "                        user='root',\n",
    "                        passwd='password'\n",
    "                       )\n",
    "\n",
    "cursor = conexion.cursor()\n",
    "\n",
    "\n",
    "cursor"
   ]
  },
  {
   "cell_type": "code",
   "execution_count": 3,
   "id": "ab6e44a0",
   "metadata": {},
   "outputs": [
    {
     "data": {
      "text/plain": [
       "<bound method MySQLCursor.execute of <mysql.connector.cursor.MySQLCursor object at 0x7f8a3effb9d0>>"
      ]
     },
     "execution_count": 3,
     "metadata": {},
     "output_type": "execute_result"
    }
   ],
   "source": [
    "cursor.execute('drop database if exists blockbuster;')\n",
    "\n",
    "cursor.execute('create database blockbuster;')\n",
    "\n",
    "conexion = conn.connect(host='localhost',\n",
    "                        user='root',\n",
    "                        passwd='password',\n",
    "                        database='blockbuster'\n",
    "                       )\n",
    "\n",
    "\n",
    "cursor = conexion.cursor()\n",
    "\n",
    "c=cursor.execute\n",
    "\n",
    "c\n"
   ]
  },
  {
   "cell_type": "markdown",
   "id": "20aa864d",
   "metadata": {},
   "source": [
    "## 2. Look at the Data"
   ]
  },
  {
   "cell_type": "code",
   "execution_count": 4,
   "id": "18f18f73",
   "metadata": {},
   "outputs": [],
   "source": [
    "actor = pd.read_csv('../data/actor.csv')\n",
    "categ = pd.read_csv('../data/category.csv')\n",
    "film = pd.read_csv('../data/film.csv')\n",
    "invent = pd.read_csv('../data/inventory.csv')\n",
    "lang = pd.read_csv('../data/language.csv')\n",
    "old = pd.read_csv('../data/old_HDD.csv')\n",
    "rental = pd.read_csv('../data/rental.csv')"
   ]
  },
  {
   "cell_type": "markdown",
   "id": "fecb9f35",
   "metadata": {},
   "source": [
    "*Commit 2,3 y 4*"
   ]
  },
  {
   "cell_type": "markdown",
   "id": "3dd0ac0b",
   "metadata": {},
   "source": [
    "## 3. Data Cleaning"
   ]
  },
  {
   "cell_type": "markdown",
   "id": "cac5a8eb",
   "metadata": {},
   "source": [
    "### Deleting update time from all the columns"
   ]
  },
  {
   "cell_type": "code",
   "execution_count": 12,
   "id": "07ba732c",
   "metadata": {},
   "outputs": [],
   "source": [
    "x='last_update'\n",
    "\n",
    "actor.drop(x, axis=1, inplace= True)\n",
    "lang.drop(x, axis=1, inplace= True)\n",
    "rental.drop(x, axis=1, inplace= True)\n",
    "invent.drop(x, axis=1, inplace= True)\n",
    "film.drop(x, axis=1, inplace= True)\n",
    "categ.drop(x, axis=1, inplace= True)"
   ]
  },
  {
   "cell_type": "markdown",
   "id": "2db2b8c6",
   "metadata": {},
   "source": [
    "### Invent/Films fix"
   ]
  },
  {
   "cell_type": "code",
   "execution_count": 13,
   "id": "33e44867",
   "metadata": {},
   "outputs": [],
   "source": [
    "film.drop('original_language_id', axis=1, inplace= True)"
   ]
  },
  {
   "cell_type": "markdown",
   "id": "8c6c700d",
   "metadata": {},
   "source": [
    "### Deleting duplicated actor"
   ]
  },
  {
   "cell_type": "code",
   "execution_count": 14,
   "id": "3fb94de4",
   "metadata": {},
   "outputs": [],
   "source": [
    "actor.drop(actor[actor.duplicated(subset=['first_name', 'last_name'])].index, inplace=True)"
   ]
  },
  {
   "cell_type": "markdown",
   "id": "b269baa3",
   "metadata": {},
   "source": [
    "### Changing the actor names from 'old' to actor_id"
   ]
  },
  {
   "cell_type": "code",
   "execution_count": 17,
   "id": "fd740260",
   "metadata": {},
   "outputs": [],
   "source": [
    "old['actor_id'] = pd.Series([np.nan] * len(old))\n",
    "old['full_name'] = old['first_name'] + ' ' + old['last_name']\n",
    "\n",
    "del old['first_name']\n",
    "del old['last_name']\n",
    "\n"
   ]
  },
  {
   "cell_type": "code",
   "execution_count": 18,
   "id": "1f0e1e1f",
   "metadata": {},
   "outputs": [],
   "source": [
    "actor['full_name'] = actor['first_name'] + ' ' + actor['last_name']\n",
    "\n",
    "del actor['first_name']\n",
    "del actor['last_name']\n"
   ]
  },
  {
   "cell_type": "markdown",
   "id": "9d4c94e8",
   "metadata": {},
   "source": [
    "*commit 5*"
   ]
  },
  {
   "cell_type": "code",
   "execution_count": 25,
   "id": "708854d0",
   "metadata": {},
   "outputs": [],
   "source": [
    "actores_ides = dict(zip(actor.full_name.values,actor.actor_id.values))\n"
   ]
  },
  {
   "cell_type": "code",
   "execution_count": 22,
   "id": "485757a8",
   "metadata": {},
   "outputs": [],
   "source": [
    "old['actor_id'] = [actores_ides[i] for i in old.full_name]"
   ]
  },
  {
   "cell_type": "code",
   "execution_count": 35,
   "id": "ab6789e0",
   "metadata": {},
   "outputs": [],
   "source": [
    "film_ides = dict(zip(film.title.values,film.film_id.values))"
   ]
  },
  {
   "cell_type": "code",
   "execution_count": 29,
   "id": "0ac7c2dd",
   "metadata": {},
   "outputs": [],
   "source": [
    "old['title_id'] = [film_ides[i] for i in old.title]"
   ]
  },
  {
   "cell_type": "code",
   "execution_count": 33,
   "id": "89e32a32",
   "metadata": {},
   "outputs": [
    {
     "data": {
      "text/html": [
       "<div>\n",
       "<style scoped>\n",
       "    .dataframe tbody tr th:only-of-type {\n",
       "        vertical-align: middle;\n",
       "    }\n",
       "\n",
       "    .dataframe tbody tr th {\n",
       "        vertical-align: top;\n",
       "    }\n",
       "\n",
       "    .dataframe thead th {\n",
       "        text-align: right;\n",
       "    }\n",
       "</style>\n",
       "<table border=\"1\" class=\"dataframe\">\n",
       "  <thead>\n",
       "    <tr style=\"text-align: right;\">\n",
       "      <th></th>\n",
       "      <th>title</th>\n",
       "      <th>category_id</th>\n",
       "      <th>actor_id</th>\n",
       "      <th>title_id</th>\n",
       "    </tr>\n",
       "  </thead>\n",
       "  <tbody>\n",
       "    <tr>\n",
       "      <th>0</th>\n",
       "      <td>ACADEMY DINOSAUR</td>\n",
       "      <td>6</td>\n",
       "      <td>1</td>\n",
       "      <td>1</td>\n",
       "    </tr>\n",
       "    <tr>\n",
       "      <th>1</th>\n",
       "      <td>ANACONDA CONFESSIONS</td>\n",
       "      <td>2</td>\n",
       "      <td>1</td>\n",
       "      <td>23</td>\n",
       "    </tr>\n",
       "    <tr>\n",
       "      <th>2</th>\n",
       "      <td>ANGELS LIFE</td>\n",
       "      <td>13</td>\n",
       "      <td>1</td>\n",
       "      <td>25</td>\n",
       "    </tr>\n",
       "    <tr>\n",
       "      <th>3</th>\n",
       "      <td>BULWORTH COMMANDMENTS</td>\n",
       "      <td>10</td>\n",
       "      <td>1</td>\n",
       "      <td>106</td>\n",
       "    </tr>\n",
       "    <tr>\n",
       "      <th>4</th>\n",
       "      <td>CHEAPER CLYDE</td>\n",
       "      <td>14</td>\n",
       "      <td>1</td>\n",
       "      <td>140</td>\n",
       "    </tr>\n",
       "    <tr>\n",
       "      <th>...</th>\n",
       "      <td>...</td>\n",
       "      <td>...</td>\n",
       "      <td>...</td>\n",
       "      <td>...</td>\n",
       "    </tr>\n",
       "    <tr>\n",
       "      <th>995</th>\n",
       "      <td>COMANCHEROS ENEMY</td>\n",
       "      <td>3</td>\n",
       "      <td>39</td>\n",
       "      <td>168</td>\n",
       "    </tr>\n",
       "    <tr>\n",
       "      <th>996</th>\n",
       "      <td>DAISY MENAGERIE</td>\n",
       "      <td>14</td>\n",
       "      <td>39</td>\n",
       "      <td>203</td>\n",
       "    </tr>\n",
       "    <tr>\n",
       "      <th>997</th>\n",
       "      <td>DESERT POSEIDON</td>\n",
       "      <td>11</td>\n",
       "      <td>39</td>\n",
       "      <td>222</td>\n",
       "    </tr>\n",
       "    <tr>\n",
       "      <th>998</th>\n",
       "      <td>EVERYONE CRAFT</td>\n",
       "      <td>9</td>\n",
       "      <td>39</td>\n",
       "      <td>290</td>\n",
       "    </tr>\n",
       "    <tr>\n",
       "      <th>999</th>\n",
       "      <td>EXORCIST STING</td>\n",
       "      <td>15</td>\n",
       "      <td>39</td>\n",
       "      <td>293</td>\n",
       "    </tr>\n",
       "  </tbody>\n",
       "</table>\n",
       "<p>1000 rows × 4 columns</p>\n",
       "</div>"
      ],
      "text/plain": [
       "                     title  category_id  actor_id  title_id\n",
       "0         ACADEMY DINOSAUR            6         1         1\n",
       "1     ANACONDA CONFESSIONS            2         1        23\n",
       "2              ANGELS LIFE           13         1        25\n",
       "3    BULWORTH COMMANDMENTS           10         1       106\n",
       "4            CHEAPER CLYDE           14         1       140\n",
       "..                     ...          ...       ...       ...\n",
       "995      COMANCHEROS ENEMY            3        39       168\n",
       "996        DAISY MENAGERIE           14        39       203\n",
       "997        DESERT POSEIDON           11        39       222\n",
       "998         EVERYONE CRAFT            9        39       290\n",
       "999         EXORCIST STING           15        39       293\n",
       "\n",
       "[1000 rows x 4 columns]"
      ]
     },
     "execution_count": 33,
     "metadata": {},
     "output_type": "execute_result"
    }
   ],
   "source": [
    "bad_columns= ['release_year', 'full_name']\n",
    "\n",
    "old.drop(columns=bad_columns, inplace=True)\n",
    "\n",
    "old"
   ]
  },
  {
   "cell_type": "markdown",
   "id": "2c3604f0",
   "metadata": {},
   "source": [
    "*Commit 6*"
   ]
  },
  {
   "cell_type": "markdown",
   "id": "fdab95c0",
   "metadata": {},
   "source": [
    "### Category  to film table"
   ]
  },
  {
   "cell_type": "code",
   "execution_count": null,
   "id": "8c0c4e76",
   "metadata": {},
   "outputs": [],
   "source": []
  },
  {
   "cell_type": "code",
   "execution_count": null,
   "id": "c00a0158",
   "metadata": {},
   "outputs": [],
   "source": []
  },
  {
   "cell_type": "code",
   "execution_count": null,
   "id": "dcdbfac5",
   "metadata": {},
   "outputs": [],
   "source": []
  },
  {
   "cell_type": "code",
   "execution_count": null,
   "id": "4e9a3702",
   "metadata": {},
   "outputs": [],
   "source": []
  }
 ],
 "metadata": {
  "kernelspec": {
   "display_name": "Python 3 (ipykernel)",
   "language": "python",
   "name": "python3"
  },
  "language_info": {
   "codemirror_mode": {
    "name": "ipython",
    "version": 3
   },
   "file_extension": ".py",
   "mimetype": "text/x-python",
   "name": "python",
   "nbconvert_exporter": "python",
   "pygments_lexer": "ipython3",
   "version": "3.10.9"
  }
 },
 "nbformat": 4,
 "nbformat_minor": 5
}
